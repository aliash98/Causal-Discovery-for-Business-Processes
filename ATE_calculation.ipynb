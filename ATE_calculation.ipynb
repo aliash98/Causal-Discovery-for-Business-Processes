{
  "nbformat": 4,
  "nbformat_minor": 0,
  "metadata": {
    "colab": {
      "provenance": [],
      "include_colab_link": true
    },
    "kernelspec": {
      "name": "python3",
      "display_name": "Python 3"
    },
    "language_info": {
      "name": "python"
    }
  },
  "cells": [
    {
      "cell_type": "markdown",
      "metadata": {
        "id": "view-in-github",
        "colab_type": "text"
      },
      "source": [
        "<a href=\"https://colab.research.google.com/github/aliash98/Causal-Discovery-for-Business-Processes/blob/main/ATE_calculation.ipynb\" target=\"_parent\"><img src=\"https://colab.research.google.com/assets/colab-badge.svg\" alt=\"Open In Colab\"/></a>"
      ]
    },
    {
      "cell_type": "code",
      "source": [
        "# Install the causalnex package\n",
        "!pip install causalnex"
      ],
      "metadata": {
        "id": "8mE9BimYawKT"
      },
      "execution_count": null,
      "outputs": []
    },
    {
      "cell_type": "code",
      "source": [
        "from causalnex.structure import StructureModel\n",
        "from causalnex.inference import InferenceEngine\n",
        "from causalnex.network import BayesianNetwork\n",
        "import pandas as pd\n",
        "\n",
        "# Define the causal graph according to the edges\n",
        "\n",
        "sm = StructureModel()\n",
        "sm.add_edges_from([\n",
        "    # ('discrete_column', 'd1'),\n",
        "    ('d2', 'd3'),\n",
        "    # ('D2', 'D3'),\n",
        "    # Add other edges based on your causal graph\n",
        "])\n",
        "\n",
        "# Load and prepare your dataset\n",
        "data = pd.read_csv('trainingData.csv')\n",
        "\n",
        "\n",
        "# Create a Bayesian Network\n",
        "bn = BayesianNetwork(sm)\n",
        "\n",
        "# Add CPDs to the Bayesian Network based on your dataset\n",
        "bn = bn.fit_node_states(data)\n",
        "bn = bn.fit_cpds(data)\n",
        "\n",
        "# Instantiate the Bayesian Network\n",
        "engine = InferenceEngine(bn)\n",
        "\n",
        "# print(\"marginal D2\", engine.query()[\"D2\"])\n",
        "\n",
        "engine.do_intervention(\"d2\",\n",
        "                   {\n",
        "                    2: 0,\n",
        "                    1: 1,\n",
        "                    0: 0})\n",
        "\n",
        "engine.query()[\"d3\"]\n",
        "# Perform causal inference\n",
        "# causal_effects = engine.query({'D1': 0}, {'D2': 1})\n",
        "\n",
        "# Calculate ATE\n",
        "# ATE = causal_effects.mean()\n",
        "\n",
        "# causal_effects\n",
        "# print(\"Average Treatment Effect:\", ATE)\n"
      ],
      "metadata": {
        "colab": {
          "base_uri": "https://localhost:8080/"
        },
        "id": "cJsLyrLUWLVD",
        "outputId": "280bed7b-0311-4056-85f5-a1ea77fba19b"
      },
      "execution_count": null,
      "outputs": [
        {
          "output_type": "stream",
          "name": "stderr",
          "text": [
            "/usr/local/lib/python3.10/dist-packages/causalnex/network/network.py:379: SettingWithCopyWarning: \n",
            "A value is trying to be set on a copy of a slice from a DataFrame.\n",
            "Try using .loc[row_indexer,col_indexer] = value instead\n",
            "\n",
            "See the caveats in the documentation: https://pandas.pydata.org/pandas-docs/stable/user_guide/indexing.html#returning-a-view-versus-a-copy\n",
            "  df[col] = df[col].map(self._node_states[col])\n",
            "/usr/local/lib/python3.10/dist-packages/causalnex/network/network.py:379: SettingWithCopyWarning: \n",
            "A value is trying to be set on a copy of a slice from a DataFrame.\n",
            "Try using .loc[row_indexer,col_indexer] = value instead\n",
            "\n",
            "See the caveats in the documentation: https://pandas.pydata.org/pandas-docs/stable/user_guide/indexing.html#returning-a-view-versus-a-copy\n",
            "  df[col] = df[col].map(self._node_states[col])\n"
          ]
        },
        {
          "output_type": "execute_result",
          "data": {
            "text/plain": [
              "{0: 0.4869158878504673, 1: 0.5130841121495328, 2: 0.0}"
            ]
          },
          "metadata": {},
          "execution_count": 5
        }
      ]
    }
  ]
}